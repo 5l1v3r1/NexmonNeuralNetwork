{
  "nbformat": 4,
  "nbformat_minor": 0,
  "metadata": {
    "colab": {
      "name": "NexmonNeuralNetworkSequential.ipynb",
      "version": "0.3.2",
      "provenance": []
    },
    "kernelspec": {
      "name": "python3",
      "display_name": "Python 3"
    },
    "accelerator": "GPU"
  },
  "cells": [
    {
      "metadata": {
        "id": "k01aPkLdpXCm",
        "colab_type": "code",
        "colab": {
          "base_uri": "https://localhost:8080/",
          "height": 34
        },
        "outputId": "deb31dec-56f3-4683-cd78-0819872359f5"
      },
      "cell_type": "code",
      "source": [
        "import numpy as np\n",
        "from keras import backend as K\n",
        "from keras.models import Sequential\n",
        "from keras.layers.core import Flatten, Reshape, Permute\n",
        "from keras.layers import TimeDistributed, Conv2D, Dense, Dropout, Activation, LSTM, MaxPooling2D, GRU, ConvLSTM2D, Bidirectional\n",
        "from keras.preprocessing.image import ImageDataGenerator\n",
        "from sklearn.metrics import classification_report, confusion_matrix\n",
        "from keras.layers.normalization import BatchNormalization\n",
        "from keras.callbacks import ModelCheckpoint\n",
        "from keras.utils.vis_utils import plot_model\n",
        "import matplotlib.pyplot as plt\n",
        "from keras.layers.normalization import BatchNormalization"
      ],
      "execution_count": 1,
      "outputs": [
        {
          "output_type": "stream",
          "text": [
            "Using TensorFlow backend.\n"
          ],
          "name": "stderr"
        }
      ]
    },
    {
      "metadata": {
        "id": "Cf4hWZoO0mrm",
        "colab_type": "code",
        "outputId": "4c0d8189-1506-4e15-b1ea-404ceada0d51",
        "colab": {
          "base_uri": "https://localhost:8080/",
          "height": 191
        }
      },
      "cell_type": "code",
      "source": [
        "!pip install PyDrive"
      ],
      "execution_count": 2,
      "outputs": [
        {
          "output_type": "stream",
          "text": [
            "Requirement already satisfied: PyDrive in /usr/local/lib/python3.6/dist-packages (1.3.1)\n",
            "Requirement already satisfied: PyYAML>=3.0 in /usr/local/lib/python3.6/dist-packages (from PyDrive) (3.13)\n",
            "Requirement already satisfied: google-api-python-client>=1.2 in /usr/local/lib/python3.6/dist-packages (from PyDrive) (1.6.7)\n",
            "Requirement already satisfied: oauth2client>=4.0.0 in /usr/local/lib/python3.6/dist-packages (from PyDrive) (4.1.3)\n",
            "Requirement already satisfied: uritemplate<4dev,>=3.0.0 in /usr/local/lib/python3.6/dist-packages (from google-api-python-client>=1.2->PyDrive) (3.0.0)\n",
            "Requirement already satisfied: httplib2<1dev,>=0.9.2 in /usr/local/lib/python3.6/dist-packages (from google-api-python-client>=1.2->PyDrive) (0.11.3)\n",
            "Requirement already satisfied: six<2dev,>=1.6.1 in /usr/local/lib/python3.6/dist-packages (from google-api-python-client>=1.2->PyDrive) (1.11.0)\n",
            "Requirement already satisfied: rsa>=3.1.4 in /usr/local/lib/python3.6/dist-packages (from oauth2client>=4.0.0->PyDrive) (4.0)\n",
            "Requirement already satisfied: pyasn1-modules>=0.0.5 in /usr/local/lib/python3.6/dist-packages (from oauth2client>=4.0.0->PyDrive) (0.2.4)\n",
            "Requirement already satisfied: pyasn1>=0.1.7 in /usr/local/lib/python3.6/dist-packages (from oauth2client>=4.0.0->PyDrive) (0.4.5)\n"
          ],
          "name": "stdout"
        }
      ]
    },
    {
      "metadata": {
        "id": "EMcBN6YAt2b8",
        "colab_type": "code",
        "colab": {}
      },
      "cell_type": "code",
      "source": [
        "import os\n",
        "from pydrive.auth import GoogleAuth\n",
        "from pydrive.drive import GoogleDrive\n",
        "from google.colab import auth\n",
        "from oauth2client.client import GoogleCredentials\n",
        "\n",
        "auth.authenticate_user()\n",
        "gauth = GoogleAuth()\n",
        "gauth.credentials = GoogleCredentials.get_application_default()\n",
        "drive = GoogleDrive(gauth)"
      ],
      "execution_count": 0,
      "outputs": []
    },
    {
      "metadata": {
        "id": "uoQb-G9vvmmw",
        "colab_type": "code",
        "colab": {}
      },
      "cell_type": "code",
      "source": [
        "\n",
        "#fourtySecondData = drive.CreateFile({'id': '1KZb0bzfF9dfX4aW0pLBnIGg50qnf_8Rk'})\n",
        "eightSecondData = drive.CreateFile({'id': '1_cvG6wanYkyT5E2PXxIRTxTcQim7CVGq'})\n",
        "eightSecondData.GetContentFile('DATA.tar')\n",
        "!tar --extract --file DATA.tar"
      ],
      "execution_count": 0,
      "outputs": []
    },
    {
      "metadata": {
        "id": "ZgVBfTf-0HuD",
        "colab_type": "code",
        "outputId": "1d9dfe47-77fc-443f-a690-8198df7f92e4",
        "colab": {
          "base_uri": "https://localhost:8080/",
          "height": 52
        }
      },
      "cell_type": "code",
      "source": [
        "#Start\n",
        "#Fourty Second Data\n",
        "#train_data_path = 'NexmonData/train'\n",
        "#test_data_path = 'NexmonData/validation'\n",
        "#img_rows = 255\n",
        "#Eight Second Data\n",
        "train_data_path = 'NexmonShortData/train'\n",
        "test_data_path = 'NexmonShortData/validation'\n",
        "img_rows = 51\n",
        "img_cols = 56\n",
        "epochs = 30\n",
        "batch_size = 30\n",
        "num_of_train_samples = 930\n",
        "num_of_test_samples = 720\n",
        "convFilter1 = 128\n",
        "\n",
        "input_shape = (img_rows, img_cols, 1)\n",
        "\n",
        "#Image Generator\n",
        "train_datagen = ImageDataGenerator()\n",
        "\n",
        "test_datagen = ImageDataGenerator()\n",
        "\n",
        "train_generator = train_datagen.flow_from_directory(train_data_path,\n",
        "                                                    color_mode='grayscale',\n",
        "                                                    target_size=(img_rows, img_cols),\n",
        "                                                    batch_size=batch_size,\n",
        "                                                    class_mode='categorical')\n",
        "\n",
        "validation_generator = test_datagen.flow_from_directory(test_data_path,\n",
        "                                                        color_mode='grayscale',\n",
        "                                                        target_size=(img_rows, img_cols),\n",
        "                                                        batch_size=batch_size,\n",
        "                                                        class_mode='categorical')\n"
      ],
      "execution_count": 5,
      "outputs": [
        {
          "output_type": "stream",
          "text": [
            "Found 930 images belonging to 5 classes.\n",
            "Found 720 images belonging to 5 classes.\n"
          ],
          "name": "stdout"
        }
      ]
    },
    {
      "metadata": {
        "id": "fGrNkwJC0H6B",
        "colab_type": "code",
        "outputId": "b9422054-80f2-49d6-cea3-fe951b6adaed",
        "colab": {
          "base_uri": "https://localhost:8080/",
          "height": 486
        }
      },
      "cell_type": "code",
      "source": [
        "# Build model\n",
        "model = Sequential()\n",
        "\n",
        "model.add(Conv2D(filters=32,\n",
        "                 kernel_size=(5,5),\n",
        "                 input_shape=input_shape,\n",
        "                 padding='valid',\n",
        "                 activation='tanh',\n",
        "                 strides=1))\n",
        "\n",
        "model.add(MaxPooling2D(pool_size=(2,2)))\n",
        "model.add(Dropout(.15))\n",
        "\n",
        "model.add(Conv2D(filters=convFilter1,\n",
        "                 kernel_size=(5,5),\n",
        "                 padding='valid',\n",
        "                 activation='tanh',\n",
        "                 strides=1))\n",
        "\n",
        "model.add(MaxPooling2D(pool_size=(2,2)))\n",
        "model.add(Dropout(.15))\n",
        "\n",
        "model.add(Reshape((convFilter1,-1)))\n",
        "model.add(Permute((2,1)))\n",
        "model.add(Bidirectional(LSTM(128)))\n",
        "model.add(Dense(5, activation='softmax'))\n",
        "\n",
        "model.summary()\n",
        "\n",
        "model.compile(loss='categorical_crossentropy',\n",
        "              optimizer='rmsprop',\n",
        "              metrics=['accuracy'])\n",
        "\n",
        "filepath=\"weights.best.hdf5\"\n",
        "checkpoint = ModelCheckpoint(filepath, monitor='val_acc', verbose=1, save_best_only=True, mode='max')\n",
        "callbacks_list=[checkpoint]"
      ],
      "execution_count": 17,
      "outputs": [
        {
          "output_type": "stream",
          "text": [
            "_________________________________________________________________\n",
            "Layer (type)                 Output Shape              Param #   \n",
            "=================================================================\n",
            "conv2d_7 (Conv2D)            (None, 47, 52, 32)        832       \n",
            "_________________________________________________________________\n",
            "max_pooling2d_7 (MaxPooling2 (None, 23, 26, 32)        0         \n",
            "_________________________________________________________________\n",
            "dropout_7 (Dropout)          (None, 23, 26, 32)        0         \n",
            "_________________________________________________________________\n",
            "conv2d_8 (Conv2D)            (None, 19, 22, 128)       102528    \n",
            "_________________________________________________________________\n",
            "max_pooling2d_8 (MaxPooling2 (None, 9, 11, 128)        0         \n",
            "_________________________________________________________________\n",
            "dropout_8 (Dropout)          (None, 9, 11, 128)        0         \n",
            "_________________________________________________________________\n",
            "reshape_4 (Reshape)          (None, 128, 99)           0         \n",
            "_________________________________________________________________\n",
            "permute_4 (Permute)          (None, 99, 128)           0         \n",
            "_________________________________________________________________\n",
            "bidirectional_4 (Bidirection (None, 256)               263168    \n",
            "_________________________________________________________________\n",
            "dense_4 (Dense)              (None, 5)                 1285      \n",
            "=================================================================\n",
            "Total params: 367,813\n",
            "Trainable params: 367,813\n",
            "Non-trainable params: 0\n",
            "_________________________________________________________________\n"
          ],
          "name": "stdout"
        }
      ]
    },
    {
      "metadata": {
        "id": "fQ7tMjx10IAY",
        "colab_type": "code",
        "colab": {}
      },
      "cell_type": "code",
      "source": [
        "plot_model(model, to_file='model_plot.png', show_shapes=True, show_layer_names=True)"
      ],
      "execution_count": 0,
      "outputs": []
    },
    {
      "metadata": {
        "id": "bvhLLfMn0DbP",
        "colab_type": "code",
        "outputId": "8e405fca-b2f5-4aa3-a07b-2cf55f6aba8a",
        "colab": {
          "base_uri": "https://localhost:8080/",
          "height": 2101
        }
      },
      "cell_type": "code",
      "source": [
        "#Train\n",
        "history = model.fit_generator(train_generator,\n",
        "                    steps_per_epoch=num_of_train_samples // batch_size,\n",
        "                    epochs=epochs,\n",
        "                    callbacks=callbacks_list,\n",
        "                    validation_data=validation_generator,\n",
        "                    validation_steps=num_of_test_samples // batch_size, \n",
        "                    shuffle='true')"
      ],
      "execution_count": 18,
      "outputs": [
        {
          "output_type": "stream",
          "text": [
            "Epoch 1/30\n",
            "31/31 [==============================] - 20s 631ms/step - loss: 1.1585 - acc: 0.4183 - val_loss: 3.3009 - val_acc: 0.1847\n",
            "\n",
            "Epoch 00001: val_acc improved from -inf to 0.18472, saving model to weights.best.hdf5\n",
            "Epoch 2/30\n",
            "31/31 [==============================] - 18s 565ms/step - loss: 0.7719 - acc: 0.6774 - val_loss: 3.1263 - val_acc: 0.4847\n",
            "\n",
            "Epoch 00002: val_acc improved from 0.18472 to 0.48472, saving model to weights.best.hdf5\n",
            "Epoch 3/30\n",
            "31/31 [==============================] - 17s 562ms/step - loss: 0.1865 - acc: 0.9344 - val_loss: 3.9530 - val_acc: 0.4917\n",
            "\n",
            "Epoch 00003: val_acc improved from 0.48472 to 0.49167, saving model to weights.best.hdf5\n",
            "Epoch 4/30\n",
            "31/31 [==============================] - 18s 565ms/step - loss: 0.1254 - acc: 0.9505 - val_loss: 4.4769 - val_acc: 0.5333\n",
            "\n",
            "Epoch 00004: val_acc improved from 0.49167 to 0.53333, saving model to weights.best.hdf5\n",
            "Epoch 5/30\n",
            "31/31 [==============================] - 18s 568ms/step - loss: 0.0655 - acc: 0.9753 - val_loss: 3.7187 - val_acc: 0.5569\n",
            "\n",
            "Epoch 00005: val_acc improved from 0.53333 to 0.55694, saving model to weights.best.hdf5\n",
            "Epoch 6/30\n",
            "31/31 [==============================] - 18s 565ms/step - loss: 0.0607 - acc: 0.9742 - val_loss: 4.5156 - val_acc: 0.5097\n",
            "\n",
            "Epoch 00006: val_acc did not improve from 0.55694\n",
            "Epoch 7/30\n",
            "31/31 [==============================] - 18s 565ms/step - loss: 0.0140 - acc: 0.9968 - val_loss: 4.8781 - val_acc: 0.5486\n",
            "\n",
            "Epoch 00007: val_acc did not improve from 0.55694\n",
            "Epoch 8/30\n",
            "31/31 [==============================] - 17s 563ms/step - loss: 0.0538 - acc: 0.9796 - val_loss: 4.1727 - val_acc: 0.5569\n",
            "\n",
            "Epoch 00008: val_acc improved from 0.55694 to 0.55694, saving model to weights.best.hdf5\n",
            "Epoch 9/30\n",
            "31/31 [==============================] - 17s 550ms/step - loss: 0.0177 - acc: 0.9957 - val_loss: 4.7759 - val_acc: 0.5333\n",
            "\n",
            "Epoch 00009: val_acc did not improve from 0.55694\n",
            "Epoch 10/30\n",
            "31/31 [==============================] - 18s 565ms/step - loss: 0.0198 - acc: 0.9946 - val_loss: 5.1547 - val_acc: 0.5569\n",
            "\n",
            "Epoch 00010: val_acc did not improve from 0.55694\n",
            "Epoch 11/30\n",
            "31/31 [==============================] - 17s 562ms/step - loss: 0.0590 - acc: 0.9796 - val_loss: 3.9577 - val_acc: 0.5583\n",
            "\n",
            "Epoch 00011: val_acc improved from 0.55694 to 0.55833, saving model to weights.best.hdf5\n",
            "Epoch 12/30\n",
            "31/31 [==============================] - 17s 555ms/step - loss: 0.0177 - acc: 0.9946 - val_loss: 4.2806 - val_acc: 0.4875\n",
            "\n",
            "Epoch 00012: val_acc did not improve from 0.55833\n",
            "Epoch 13/30\n",
            "31/31 [==============================] - 17s 552ms/step - loss: 0.0140 - acc: 0.9968 - val_loss: 5.4897 - val_acc: 0.5542\n",
            "\n",
            "Epoch 00013: val_acc did not improve from 0.55833\n",
            "Epoch 14/30\n",
            "31/31 [==============================] - 17s 548ms/step - loss: 0.0186 - acc: 0.9903 - val_loss: 4.8808 - val_acc: 0.5347\n",
            "\n",
            "Epoch 00014: val_acc did not improve from 0.55833\n",
            "Epoch 15/30\n",
            "31/31 [==============================] - 17s 545ms/step - loss: 0.0180 - acc: 0.9925 - val_loss: 5.3094 - val_acc: 0.5444\n",
            "\n",
            "Epoch 00015: val_acc did not improve from 0.55833\n",
            "Epoch 16/30\n",
            "31/31 [==============================] - 17s 556ms/step - loss: 0.0300 - acc: 0.9860 - val_loss: 5.2464 - val_acc: 0.5389\n",
            "\n",
            "Epoch 00016: val_acc did not improve from 0.55833\n",
            "Epoch 17/30\n",
            "31/31 [==============================] - 17s 553ms/step - loss: 0.0014 - acc: 1.0000 - val_loss: 5.7861 - val_acc: 0.5653\n",
            "\n",
            "Epoch 00017: val_acc improved from 0.55833 to 0.56528, saving model to weights.best.hdf5\n",
            "Epoch 18/30\n",
            "31/31 [==============================] - 17s 550ms/step - loss: 0.0349 - acc: 0.9903 - val_loss: 6.2494 - val_acc: 0.5444\n",
            "\n",
            "Epoch 00018: val_acc did not improve from 0.56528\n",
            "Epoch 19/30\n",
            "31/31 [==============================] - 17s 552ms/step - loss: 2.5288e-04 - acc: 1.0000 - val_loss: 6.6968 - val_acc: 0.5403\n",
            "\n",
            "Epoch 00019: val_acc did not improve from 0.56528\n",
            "Epoch 20/30\n",
            "31/31 [==============================] - 17s 546ms/step - loss: 0.0248 - acc: 0.9925 - val_loss: 6.2156 - val_acc: 0.5222\n",
            "\n",
            "Epoch 00020: val_acc did not improve from 0.56528\n",
            "Epoch 21/30\n",
            "31/31 [==============================] - 17s 557ms/step - loss: 0.0195 - acc: 0.9957 - val_loss: 5.8960 - val_acc: 0.5639\n",
            "\n",
            "Epoch 00021: val_acc did not improve from 0.56528\n",
            "Epoch 22/30\n",
            "31/31 [==============================] - 17s 558ms/step - loss: 3.1109e-04 - acc: 1.0000 - val_loss: 6.8598 - val_acc: 0.5292\n",
            "\n",
            "Epoch 00022: val_acc did not improve from 0.56528\n",
            "Epoch 23/30\n",
            "31/31 [==============================] - 17s 557ms/step - loss: 0.0498 - acc: 0.9849 - val_loss: 5.3876 - val_acc: 0.5500\n",
            "\n",
            "Epoch 00023: val_acc did not improve from 0.56528\n",
            "Epoch 24/30\n",
            "31/31 [==============================] - 17s 559ms/step - loss: 0.0106 - acc: 0.9968 - val_loss: 5.8115 - val_acc: 0.5236\n",
            "\n",
            "Epoch 00024: val_acc did not improve from 0.56528\n",
            "Epoch 25/30\n",
            "31/31 [==============================] - 17s 559ms/step - loss: 0.0014 - acc: 1.0000 - val_loss: 5.7011 - val_acc: 0.5583\n",
            "\n",
            "Epoch 00025: val_acc did not improve from 0.56528\n",
            "Epoch 26/30\n",
            "31/31 [==============================] - 17s 559ms/step - loss: 0.0667 - acc: 0.9817 - val_loss: 4.9722 - val_acc: 0.5458\n",
            "\n",
            "Epoch 00026: val_acc did not improve from 0.56528\n",
            "Epoch 27/30\n",
            "31/31 [==============================] - 17s 556ms/step - loss: 0.0016 - acc: 1.0000 - val_loss: 6.0680 - val_acc: 0.5389\n",
            "\n",
            "Epoch 00027: val_acc did not improve from 0.56528\n",
            "Epoch 28/30\n",
            "31/31 [==============================] - 17s 561ms/step - loss: 0.0370 - acc: 0.9871 - val_loss: 6.2826 - val_acc: 0.5486\n",
            "\n",
            "Epoch 00028: val_acc did not improve from 0.56528\n",
            "Epoch 29/30\n",
            "31/31 [==============================] - 17s 559ms/step - loss: 0.0172 - acc: 0.9935 - val_loss: 6.1597 - val_acc: 0.5347\n",
            "\n",
            "Epoch 00029: val_acc did not improve from 0.56528\n",
            "Epoch 30/30\n",
            "31/31 [==============================] - 17s 552ms/step - loss: 0.0233 - acc: 0.9935 - val_loss: 4.4848 - val_acc: 0.5347\n",
            "\n",
            "Epoch 00030: val_acc did not improve from 0.56528\n"
          ],
          "name": "stdout"
        }
      ]
    },
    {
      "metadata": {
        "id": "HJ-gf7V70Aci",
        "colab_type": "code",
        "outputId": "ae2c204c-36ef-40a4-ef30-75cbcff7b1ba",
        "colab": {
          "base_uri": "https://localhost:8080/",
          "height": 376
        }
      },
      "cell_type": "code",
      "source": [
        "#History for accuracy\n",
        "plt.plot(history.history['acc'])\n",
        "plt.plot(history.history['val_acc'])\n",
        "plt.title('model accuracy')\n",
        "plt.ylabel('accuracy')\n",
        "plt.xlabel('epoch')\n",
        "plt.legend(['train', 'test'], loc='upper left')\n",
        "plt.show()"
      ],
      "execution_count": 19,
      "outputs": [
        {
          "output_type": "display_data",
          "data": {
            "image/png": "[encoded data removed]",
            "text/plain": [
              "<Figure size 576x396 with 1 Axes>"
            ]
          },
          "metadata": {
            "tags": []
          }
        }
      ]
    },
    {
      "metadata": {
        "id": "YZsnfAx6z18O",
        "colab_type": "code",
        "outputId": "3698879d-9d09-4915-b730-f27d8b695a1c",
        "colab": {
          "base_uri": "https://localhost:8080/",
          "height": 376
        }
      },
      "cell_type": "code",
      "source": [
        "#History for accuracy\n",
        "plt.plot(history.history['loss'])\n",
        "plt.plot(history.history['val_loss'])\n",
        "plt.title('model loss')\n",
        "plt.ylabel('loss')\n",
        "plt.xlabel('epoch')\n",
        "plt.legend(['train', 'test'], loc='upper left')\n",
        "plt.show()"
      ],
      "execution_count": 20,
      "outputs": [
        {
          "output_type": "display_data",
          "data": {
            "image/png": "[encoded data removed]",
            "text/plain": [
              "<Figure size 576x396 with 1 Axes>"
            ]
          },
          "metadata": {
            "tags": []
          }
        }
      ]
    }
  ]
}